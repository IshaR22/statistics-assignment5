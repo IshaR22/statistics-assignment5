{
 "cells": [
  {
   "cell_type": "code",
   "execution_count": null,
   "id": "bfe2aa4b-55e7-41ba-82ec-c16ebc734cf6",
   "metadata": {},
   "outputs": [],
   "source": [
    "Q1: What is the difference between a t-test and a z-test? Provide an example scenario where you would\n",
    "use each type of test."
   ]
  },
  {
   "cell_type": "code",
   "execution_count": null,
   "id": "741a3e8c-e9a8-402b-bbec-f0326dc83e45",
   "metadata": {},
   "outputs": [],
   "source": [
    "The t-statistic is a value computed in hypothesis testing when the sample size is small, and the population standard \n",
    "deviation is unknown. It measures the size of the difference relative to the variation in your sample data. \n",
    "Specifically, it indicates how many standard errors the sample mean is away from the hypothesized population mean.\n",
    "\n",
    "t=(sample mean-population mean)/(sample std/ root n)\n",
    "n=sample size\n",
    "degree of freedom = n-1\n",
    "t test is used when the populations td is not given .\n",
    "\n",
    "the z test is used when the sample size is greater then 30 and the standard deviation of the population is given  "
   ]
  },
  {
   "cell_type": "code",
   "execution_count": null,
   "id": "5d1f3869-e589-4b51-b2d6-4c305a4612da",
   "metadata": {},
   "outputs": [],
   "source": [
    "Q2: Differentiate between one-tailed and two-tailed tests."
   ]
  },
  {
   "cell_type": "code",
   "execution_count": null,
   "id": "baa88d8e-7247-4ca1-b234-e1da3809c786",
   "metadata": {},
   "outputs": [],
   "source": [
    "A one-tailed test (or one-sided test) is used when the research hypothesis specifies a direction of the effect. \n",
    "It tests for the possibility of the relationship in one direction and ignores the possibility of a relationship \n",
    "in the other direction.\n",
    "Example: Testing if a new drug has a greater effect than an existing drug.\n",
    "H0​: The new drug is not more effective (it is equally effective or less effective).\n",
    "H1​: The new drug is more effective.\n",
    "\n",
    "A two-tailed test (or two-sided test) is used when the research hypothesis does not specify a direction of the effect.\n",
    "It tests for the possibility of the relationship in both directions.\n",
    "Example: Testing if a new drug has a different effect than an existing drug.\n",
    "H0​: The new drug has the same effect as the existing drug.\n",
    "H1​: The new drug has a different effect (it could be more or less effective).\n"
   ]
  },
  {
   "cell_type": "code",
   "execution_count": null,
   "id": "91c826ad-bdfc-4216-b1fa-f97745be40f3",
   "metadata": {},
   "outputs": [],
   "source": [
    "Q3: Explain the concept of Type 1 and Type 2 errors in hypothesis testing. Provide an example scenario for\n",
    "each type of error."
   ]
  },
  {
   "cell_type": "code",
   "execution_count": null,
   "id": "d74140c7-e6ac-441a-b28e-09ec59784ad3",
   "metadata": {},
   "outputs": [],
   "source": [
    "type 1 error is the error occur when we reject the null hypothesis when in reality the null hypothesis is true\n",
    "\n",
    "type 2 error is the error occur when we retain the null hypothesis when in reality the null hypothesis is false\n",
    "Consider the same pharmaceutical company testing the new drug.\n",
    "\n",
    "Null Hypothesis (\n",
    "𝐻0: The new drug is not more effective than the existing treatment.\n",
    "H1: The new drug is more effective than the existing treatment.\n"
   ]
  },
  {
   "cell_type": "code",
   "execution_count": null,
   "id": "dd7e5bc7-e8b6-432f-a138-025f761762a5",
   "metadata": {},
   "outputs": [],
   "source": []
  },
  {
   "cell_type": "code",
   "execution_count": null,
   "id": "abe3fba7-9eb8-4ffa-9381-89e619fec7b6",
   "metadata": {},
   "outputs": [],
   "source": [
    "Q4: Explain Bayes's theorem with an example."
   ]
  },
  {
   "cell_type": "code",
   "execution_count": null,
   "id": "93ac446d-a32e-4c9b-a1a8-47ef0e34bc33",
   "metadata": {},
   "outputs": [],
   "source": [
    "Bayes's theorem is a fundamental concept in probability theory and statistics that describes how to update the \n",
    "probability of a hypothesis based on new evidence. \n",
    "bayes's formula\n",
    "p(A|B)=p(B|A)*P(A)/p(B)\n",
    "P(A∣B) is the posterior probability: the probability of event \n",
    "A occurring given that \n",
    "B is true.\n",
    "P(B∣A) is the likelihood: the probability of event B occurring given that A is true.\n",
    "P(A) is the prior probability: the initial probability of event A\n",
    "P(B) is the marginal likelihood: the total probability of event B occurring.\n"
   ]
  },
  {
   "cell_type": "code",
   "execution_count": null,
   "id": "d9e19052-27e1-4905-9dca-754f486a595c",
   "metadata": {},
   "outputs": [],
   "source": [
    "Q5: What is a confidence interval? How to calculate the confidence interval, explain with an example."
   ]
  },
  {
   "cell_type": "code",
   "execution_count": null,
   "id": "884e3cb6-d03e-4834-b461-3f168dbf432c",
   "metadata": {},
   "outputs": [],
   "source": [
    " confidence interval=sample mean +-margin of error \n",
    "z test \n",
    "margin of error =sample mean+z(alpha/2)population std/root simple size"
   ]
  },
  {
   "cell_type": "code",
   "execution_count": null,
   "id": "79fd279b-d6f1-48d7-a5c4-e5011ef5677d",
   "metadata": {},
   "outputs": [],
   "source": [
    "Q6. Use Bayes' Theorem to calculate the probability of an event occurring given prior knowledge of the\n",
    "event's probability and new evidence. Provide a sample problem and solution."
   ]
  },
  {
   "cell_type": "code",
   "execution_count": null,
   "id": "aa4154fd-527a-4bea-9212-a4df6b1eeace",
   "metadata": {},
   "outputs": [],
   "source": []
  },
  {
   "cell_type": "code",
   "execution_count": null,
   "id": "6848e4d5-809a-42d4-9bc9-f9f2ba93cdd2",
   "metadata": {},
   "outputs": [],
   "source": [
    "Q7. Calculate the 95% confidence interval for a sample of data with a mean of 50 and a standard deviation\n",
    "of 5. Interpret the results."
   ]
  },
  {
   "cell_type": "code",
   "execution_count": null,
   "id": "5beddf7f-b1e3-40f9-a979-009c1251dabf",
   "metadata": {},
   "outputs": [],
   "source": [
    "The z-value for a 95% confidence level is 1.96.\n",
    "CI=sample mean +-z(sample std/root n)\n",
    "CI=50+-1.96(5/root n)"
   ]
  },
  {
   "cell_type": "code",
   "execution_count": null,
   "id": "c18eb98b-6136-4fb7-84e4-315ed384871f",
   "metadata": {},
   "outputs": [],
   "source": [
    "Q8. What is the margin of error in a confidence interval? How does sample size affect the margin of error?\n",
    "Provide an example of a scenario where a larger sample size would result in a smaller margin of error."
   ]
  },
  {
   "cell_type": "code",
   "execution_count": null,
   "id": "628f4115-6874-445d-87cc-98c8d17493a5",
   "metadata": {},
   "outputs": [],
   "source": [
    "The margin of error (ME) in a confidence interval quantifies the amount of random sampling error in the estimate \n",
    "of a population parameter. It represents the range within which the true population parameter is expected to lie,\n",
    "given a certain level of confidence (e.g., 95%).\n",
    "\n",
    "ME=Z(sample srd/root n)\n",
    "Where:\n",
    "Z is the z-score corresponding to the desired confidence level (e.g., for 95% confidence, Z=1.96)\n",
    "σ is the standard deviation of the sample.\n",
    "n is the sample size.\n",
    "\n",
    "The sample size (n) directly affects the margin of error. Specifically, as the sample size increases, the margin of\n",
    "error decreases. This relationship is due to the root n term in  margin of error formula. Larger sample sizes provide\n",
    "more information and reduce the uncertainty in the estimate, leading to a smaller margin of error.\n",
    "\n",
    "example\n",
    "A market research company wants to estimate the average amount of money spent by customers at a grocery store per \n",
    "visit. They take two different sample sizes to compare the effect on the margin of error.\n",
    "\n",
    "Sample 1: n=100\n",
    "Sample 2: n=400\n",
    "Assume the standard deviation (σ) of the amount spent is $20.\n",
    "Confidence level: 95% (corresponding Z-value = 1.96)\n",
    " therefore \n",
    "    ME=1.96(20/ROOT 100)=1.96(2)=3.92\n",
    "    ME2=1.96(20/ROOT 400)=1.96"
   ]
  },
  {
   "cell_type": "code",
   "execution_count": null,
   "id": "e770275c-4350-4981-a4f2-bcbd467d903a",
   "metadata": {},
   "outputs": [],
   "source": [
    "Q9. Calculate the z-score for a data point with a value of 75, a population mean of 70, and a population\n",
    "standard deviation of 5. Interpret the results."
   ]
  },
  {
   "cell_type": "code",
   "execution_count": null,
   "id": "21532bf9-37d1-4612-bf72-615d1e28ae33",
   "metadata": {},
   "outputs": [],
   "source": [
    "POP MEAN=70\n",
    "POP STD=5\n",
    "Z SCORE\n",
    "Z=DATA POINT -POP MEAN /POP STD\n",
    "Z SCORE=75-70/5\n",
    "Z SCORE=1"
   ]
  },
  {
   "cell_type": "code",
   "execution_count": null,
   "id": "94c8d0ce-08fa-4f5c-aab9-9cf20c582d84",
   "metadata": {},
   "outputs": [],
   "source": [
    "Q10. In a study of the effectiveness of a new weight loss drug, a sample of 50 participants lost an average\n",
    "of 6 pounds with a standard deviation of 2.5 pounds. Conduct a hypothesis test to determine if the drug is\n",
    "significantly effective at a 95% confidence level using a t-test."
   ]
  },
  {
   "cell_type": "code",
   "execution_count": null,
   "id": "7aaab155-bb89-4a0e-9bd3-cde303291067",
   "metadata": {},
   "outputs": [],
   "source": [
    "N=50\n",
    "MEAN=6\n",
    "STD=2.5\n",
    "95% confidence level \n",
    "CI=.95\n",
    "ALPHA=0.05\n"
   ]
  },
  {
   "cell_type": "code",
   "execution_count": null,
   "id": "5048b73f-5bb0-4fbe-bf39-095adb6c0a6a",
   "metadata": {},
   "outputs": [],
   "source": [
    "Q11. In a survey of 500 people, 65% reported being satisfied with their current job. Calculate the 95%\n",
    "confidence interval for the true proportion of people who are satisfied with their job."
   ]
  },
  {
   "cell_type": "code",
   "execution_count": null,
   "id": "402b4771-456e-4f21-9166-5233752dfad0",
   "metadata": {},
   "outputs": [],
   "source": [
    "N=500\n",
    "CI=0.95\n",
    "\n",
    "\n"
   ]
  },
  {
   "cell_type": "code",
   "execution_count": null,
   "id": "d8eeebd5-9807-4669-9237-8c33487ca56a",
   "metadata": {},
   "outputs": [],
   "source": [
    "Q12. A researcher is testing the effectiveness of two different teaching methods on student performance.\n",
    "Sample A has a mean score of 85 with a standard deviation of 6, while sample B has a mean score of 82\n",
    "with a standard deviation of 5. Conduct a hypothesis test to determine if the two teaching methods have a\n",
    "significant difference in student performance using a t-test with a significance level of 0.01."
   ]
  },
  {
   "cell_type": "code",
   "execution_count": null,
   "id": "73ef64e8-9074-418e-ac1f-36fe49625c11",
   "metadata": {},
   "outputs": [],
   "source": [
    "AMEAN=85\n",
    "ASTD=6\n",
    "ALPHA=0.01\n",
    "BMEAN=82\n",
    "BSTD=5\n",
    "H0=MEAN A= MEAN B\n",
    "H1=MEAN 4 NOT EQUAL TO MEAN B\n",
    "T TEST\n",
    "T=MEAN A-MEAN B/ROOT(STD A **2/SAMPLE A + STD B**2/SAMPLE B)\n",
    "T=85-82/ROOT(36/30+25/30)\n",
    "T=2.104\n",
    "DEGREE OF FREEDOM \n",
    "DF=56\n",
    "T1=2.660\n",
    "T>T1\n",
    "FALSE \n",
    "THEREFORE NULL HYPOTHESIS IS TRUE"
   ]
  },
  {
   "cell_type": "code",
   "execution_count": null,
   "id": "16bbccd9-840d-4448-ab43-bc0e3ef8c8dd",
   "metadata": {},
   "outputs": [],
   "source": [
    "Q13. A population has a mean of 60 and a standard deviation of 8. A sample of 50 observations has a mean\n",
    "of 65. Calculate the 90% confidence interval for the true population mean."
   ]
  },
  {
   "cell_type": "code",
   "execution_count": null,
   "id": "921dc71d-ad18-49d9-b914-3f827e8bbefb",
   "metadata": {},
   "outputs": [],
   "source": [
    "CI=SAMPLE MEAN +-ME\n",
    "ME=Z SCORE (POP STD/ ROOT N)\n",
    "ME=1.645(8/5 ROOT 2)\n",
    "ME=1.645*1.131\n",
    "CI=60 +- ME\n",
    "(63.139 TO 66.861)"
   ]
  },
  {
   "cell_type": "code",
   "execution_count": null,
   "id": "2cd54c3c-a6fc-486b-876a-3f107793579d",
   "metadata": {},
   "outputs": [],
   "source": [
    "Q14. In a study of the effects of caffeine on reaction time, a sample of 30 participants had an average\n",
    "reaction time of 0.25 seconds with a standard deviation of 0.05 seconds. Conduct a hypothesis test to\n",
    "determine if the caffeine has a significant effect on reaction time at a 90% confidence level using a t-test."
   ]
  },
  {
   "cell_type": "code",
   "execution_count": null,
   "id": "fb103e2d-f31c-41db-a7a9-833e64fa7168",
   "metadata": {},
   "outputs": [],
   "source": [
    "H0: POPULATION MEAN IS EQUAL TO SAMPLE MEAN\n",
    "LET POPULATION MEAN=0.3\n",
    "H1=POPULATION MEAN IS NOT EQUAL TO SAMPLE MEAN\n",
    "T=SAMPLE MEAN- POP MEAN/STD/ROOT N\n",
    "T=0.3=0.25/0.05/3 ROOT 5\n",
    "T=-5.494\n",
    "DF=N-1=29\n",
    "T1=+-1.699\n",
    "T>1.699 AND T<-1.699\n",
    "THEREFORE REJECT THE NULL HYPOTHESIS\n",
    "\n"
   ]
  }
 ],
 "metadata": {
  "kernelspec": {
   "display_name": "Python 3 (ipykernel)",
   "language": "python",
   "name": "python3"
  },
  "language_info": {
   "codemirror_mode": {
    "name": "ipython",
    "version": 3
   },
   "file_extension": ".py",
   "mimetype": "text/x-python",
   "name": "python",
   "nbconvert_exporter": "python",
   "pygments_lexer": "ipython3",
   "version": "3.10.8"
  }
 },
 "nbformat": 4,
 "nbformat_minor": 5
}
